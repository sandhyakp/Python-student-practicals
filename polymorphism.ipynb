{
  "nbformat": 4,
  "nbformat_minor": 0,
  "metadata": {
    "colab": {
      "provenance": [],
      "authorship_tag": "ABX9TyMkdOxjqAK44V5tmXacPED5",
      "include_colab_link": true
    },
    "kernelspec": {
      "name": "python3",
      "display_name": "Python 3"
    },
    "language_info": {
      "name": "python"
    }
  },
  "cells": [
    {
      "cell_type": "markdown",
      "metadata": {
        "id": "view-in-github",
        "colab_type": "text"
      },
      "source": [
        "<a href=\"https://colab.research.google.com/github/sandhyakp/Python-student-practicals/blob/main/polymorphism.ipynb\" target=\"_parent\"><img src=\"https://colab.research.google.com/assets/colab-badge.svg\" alt=\"Open In Colab\"/></a>"
      ]
    },
    {
      "cell_type": "code",
      "execution_count": null,
      "metadata": {
        "colab": {
          "base_uri": "https://localhost:8080/"
        },
        "id": "DvXwDjqe1BbP",
        "outputId": "39dfe79b-3774-4f4a-b8ad-a63b4c8c2a66"
      },
      "outputs": [
        {
          "output_type": "stream",
          "name": "stdout",
          "text": [
            "vegies\n",
            "Icecream\n",
            "junkfood\n",
            "vegies are healthy\n",
            "Icecream is sweet\n",
            "junkfood is unhealthy\n"
          ]
        }
      ],
      "source": [
        "class Foods_list1():\n",
        "  def Vegetables(self):\n",
        "    print(\"vegies\")\n",
        "\n",
        "  def Icecream(self):\n",
        "    print(\"Icecream\")\n",
        "\n",
        "  def Junkfood(self):\n",
        "    print(\"junkfood\")\n",
        "\n",
        "\n",
        "class Foods_list2():\n",
        "  def Vegetables(self):\n",
        "    print(\"vegies are healthy\")\n",
        "\n",
        "  def Icecream(self):\n",
        "    print(\"Icecream is sweet\")\n",
        "\n",
        "  def Junkfood(self):\n",
        "    print(\"junkfood is unhealthy\")\n",
        "\n",
        "\n",
        "obj=Foods_list1()\n",
        "\n",
        "obj.Vegetables()\n",
        "obj.Icecream()\n",
        "obj.Junkfood()\n",
        "\n",
        "obj1=Foods_list2()\n",
        "\n",
        "obj1.Vegetables()\n",
        "obj1.Icecream()\n",
        "obj1.Junkfood()"
      ]
    }
  ]
}