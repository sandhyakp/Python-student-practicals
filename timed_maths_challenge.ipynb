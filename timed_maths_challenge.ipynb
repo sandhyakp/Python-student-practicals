{
  "nbformat": 4,
  "nbformat_minor": 0,
  "metadata": {
    "colab": {
      "provenance": [],
      "authorship_tag": "ABX9TyN/R5NwV+Hk0thxeoPyKnuC",
      "include_colab_link": true
    },
    "kernelspec": {
      "name": "python3",
      "display_name": "Python 3"
    },
    "language_info": {
      "name": "python"
    }
  },
  "cells": [
    {
      "cell_type": "markdown",
      "metadata": {
        "id": "view-in-github",
        "colab_type": "text"
      },
      "source": [
        "<a href=\"https://colab.research.google.com/github/sandhyakp/Python-student-practicals/blob/main/timed_maths_challenge.ipynb\" target=\"_parent\"><img src=\"https://colab.research.google.com/assets/colab-badge.svg\" alt=\"Open In Colab\"/></a>"
      ]
    },
    {
      "cell_type": "code",
      "source": [
        "print(\"Welcome to my Computer Quizz Game!\")\n",
        "\n",
        "playing = input(\"Do you want to play? \")\n",
        "\n",
        "if playing.lower() != \"yes\":\n",
        "    quit()\n",
        "\n",
        "print(\"Okay! Let's play :)\")\n",
        "\n",
        "score = 0\n",
        "\n",
        "answer = input(\"what is python?\")\n",
        "if answer.lower() == \"high level general purpose programming language\":\n",
        "    print('correct')\n",
        "    score += 1\n",
        "    print(score)\n",
        "else:\n",
        "    print('incorrect')\n",
        "\n",
        "answer = input(\"what is high level language?\")\n",
        "if answer.lower() == \"programming language designed to be easy for humans to read and write\":\n",
        "    print('correct')\n",
        "    score += 1\n",
        "    print(score)\n",
        "else:\n",
        "    print('incorrect')\n",
        "\n",
        "answer = input(\"what is low level machine code?\")\n",
        "\n",
        "if answer.lower() == \" machine language or native code is the most basic form of programming language\":\n",
        "    print('correct')\n",
        "    score += 1\n",
        "    print(score)\n",
        "else:\n",
        "    print('incorrect')\n",
        "\n",
        "answer = input(\"how many letters are in python?\")\n",
        "\n",
        "if answer.lower() == \"6\":\n",
        "    print('correct')\n",
        "    score += 1\n",
        "    print(score)\n",
        "else:\n",
        "    print('incorrect')\n",
        "\n",
        "print(\"You got \" + str((score / 4) * 100) + \"%\")\n",
        "\n",
        "\n",
        "\n"
      ],
      "metadata": {
        "colab": {
          "base_uri": "https://localhost:8080/"
        },
        "id": "rKbPaEkd2Opn",
        "outputId": "22d92998-9058-48c3-a95e-5abc39131a07"
      },
      "execution_count": null,
      "outputs": [
        {
          "metadata": {
            "tags": null
          },
          "name": "stdout",
          "output_type": "stream",
          "text": [
            "Welcome to my Computer Quizz Game!\n",
            "Okay! Let's play :)\n"
          ]
        }
      ]
    }
  ]
}